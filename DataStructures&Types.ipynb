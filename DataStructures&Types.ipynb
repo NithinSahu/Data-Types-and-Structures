{
  "nbformat": 4,
  "nbformat_minor": 0,
  "metadata": {
    "colab": {
      "provenance": []
    },
    "kernelspec": {
      "name": "python3",
      "display_name": "Python 3"
    },
    "language_info": {
      "name": "python"
    }
  },
  "cells": [
    {
      "cell_type": "markdown",
      "source": [
        "# Data Structures and Types\n",
        "\n",
        "### 1. **What are data structures, and why are they important?**\n",
        "- Data Structure is a way to organize and store data in a computer, enabling efficient access, retrieval, and processing.\n",
        "- They are important because they provide a systematic approach to managing data, crucial for building efficient and scalable software systems.\n",
        "\n",
        "\n",
        "###2.  **Explain the difference between mutable and immutable data types with examples.**\n",
        "- **Mutable Data Types :** Those DataTypes whose values can be changed or modified in place.\n",
        "Example: Lists, Dictionaries.\n",
        "- **Immutable Data Types :** Those DataTypes whose values cannot be changed or modified in place. Example: Strings, Tuples.\n",
        "\n",
        "###3. What are the main differences between lists and tuples in Python?\n",
        "- The main differences between Lists and Tuples are :\n",
        "  - **Mutability :** Lists are Mutable whereas Tuples are Immutable.\n",
        "  - Lists are enclosed withn square brackets [ ]. Example: NamesL = [Nithin, Vihaan]\n",
        "  - Tuples are enclosed within Parenthesis ( ). Example: NamesT = (Nithin, Vihaan)\n",
        "- **Use Cases :**\n",
        "  - Lists: Use lists when you need a dynamic, modifiable collection of items.\n",
        "  - Tuples: Use tuples when you need a collection of items that should remain constant.\n",
        "\n",
        "###4.  Describe how dictionaries store data.\n",
        "- Dictionaries store data in Unordered Key-Value pairs where each Key is Unique and Immutable, and Values can be of any Datatype and can be repeated, enclosed within Curly Brackets {}.\n",
        "\n",
        "- Example: Student =  {Name: Nithin, Course: BCA, Semester: 2}\n",
        "\n",
        "\n",
        "###5.  Why might you use a set instead of a list in Python?\n",
        "- Sets cannot contain Duplicate values\n",
        "- Supports a variety of Mathematical Operations such as Union, Intersection, and Difference.\n",
        "- Sets do not maintain any specific Order of Elements.\n",
        "- Simplified Syntax for Common Tasks\n",
        "\n",
        "###6. What is a string in Python, and how is it different from a list?\n",
        "- A String in Python is a Sequence of Characters used to represent Textual Data.\n",
        "- Strings can be enclosed within single quotes(' '), double quotes(\" \"), and triple quotes(''' ''').\n",
        "- Strings are Immutable (Once created, then cannot be changed in place).\n",
        "* Key Diffences between Strings and Lists are\n",
        "  - Mutability: Strings are Immutable, Lists are Mutable.\n",
        "  - Data Types: Strings can contain only Characters, Lists can contain elements of multiple DataTypes.\n",
        "\n",
        "###7. How do tuples ensure data integrity in Python?\n",
        "- Tuples in Python ensure data integrity primarily through their immutability. Once a tuple is created, its contents cannot be altered, added to, or removed.\n",
        "\n",
        "###8. What is a hash table, and how does it relate to dictionaries in Python?\n",
        "- A hash table is a data structure which stores data in key-value pairs.\n",
        "- When a key is provided, the hash function generates a unique index that indicates where the corresponding value is stored, enabling fast access to the data.\n",
        "- Key Relationships Between Hash Tables and Python Dictionaries:\n",
        "  - Data Structure: Both hash tables and dictionaries store data in key-value pairs.\n",
        "  - Hashing: Dictionaries use hashing to compute indices for keys, similar to how traditional hash tables operate.\n",
        "  - Mutability: While hash tables are generally mutable (allowing changes), Python dictionaries also allow dynamic resizing and modification of key-value pairs.\n",
        "\n",
        "###9. Can lists contain different data types in Python?\n",
        "- Yes, Lists can contain different data types in Python such as Strings, Characters, Lists, Tuples, Integers etc.\n",
        "\n",
        "###10. Explain why strings are immutable in Python?\n",
        "- Strings in Python are immutable, This design choice has several important implications:\n",
        "  - Memory Efficiency: Immutability allows Python to optimize memory usage by reusing existing string objects instead of creating new ones for every modification.\n",
        "  - Consistency and Reliability: Since strings cannot be altered, their value remains constant throughout their lifetime, ensuring functions and methods that receive strings as arguments can rely on them not changing unexpectedly, preventing potential bugs.\n",
        "\n",
        "###11. What advantages do dictionaries offer over lists for certain tasks?\n",
        "- Dictionaries offer several advantages over lists for specific tasks in Python:\n",
        "  - Fast Data Retrieval.\n",
        "  - Key-Value Pair Structure.\n",
        "  - Dynamic & Flexible.\n",
        "  - No Duplicate Keys.\n",
        "  - Built-In Methods.\n",
        "\n",
        "###12. Describe a Scenario where using a Tuple would be preferable over a List.\n",
        "- Example of using a tuple over a list is storing the geographical coordinates of a location, such as the latitude and longitude of a city. For instance:"
      ],
      "metadata": {
        "id": "G2zAQmp98CyP"
      }
    },
    {
      "cell_type": "code",
      "source": [
        "coordinates = ( 40.7128, -74.0060 ) #Latitude and Longitude of New York City"
      ],
      "metadata": {
        "id": "7rg0-_SuojXs"
      },
      "execution_count": null,
      "outputs": []
    },
    {
      "cell_type": "markdown",
      "source": [
        "- Why use a Tuple ?\n",
        "  - Fixed Size.\n",
        "  - Immutability.\n",
        "  - Clarity."
      ],
      "metadata": {
        "id": "2gB7SXaYo0my"
      }
    },
    {
      "cell_type": "markdown",
      "source": [
        "###13. How do sets handle duplicate values in Python?\n",
        "- Sets in Python handle Duplicate values by automatically Eliminating them. After Creating a Set, any Duplicate value is Ignored and keeps only one instance of Unique Elements.\n",
        "\n",
        "###14.  How does the “in” keyword work differently for lists and dictionaries?\n",
        "- For Lists: The in keyword checks for the presence of a value within the list. It uses a linear search algorithm, meaning it goes through each element one by one.\n",
        "- For Dictionaries: The in keyword checks for the presence of a key in the dictionary.\n",
        "\n",
        "###15. Can you modify the elements of a tuple? Explain why or why not.\n",
        "- Making Changes in a Tuple is not possible directly as Tuples are Immutable, but there's a way we can do it which is called as Tuple Packing, and Unpacking.\n",
        "\n",
        "###16. What is a nested dictionary, and give an example of its use case.\n",
        "- A Nested Dictionary simply means a Dictionary containing another Dictionary as one of its Values. This allows for organizing complex data structures with multiple layers of information.\n",
        "- Consider a scenario where you want to store information about Products of a Company, including their Names, and Prices. You can use a nested dictionary to represent this data:"
      ],
      "metadata": {
        "id": "eNA07nEWpOtc"
      }
    },
    {
      "cell_type": "code",
      "source": [
        "Company_Amul = {\n",
        "    \"Product1\" : { \"Name\" : \"IceCream\", \"Price\" : 90.00},\n",
        "    \"Product2\" : { \"Name\" : \"Chocolate\", \"Price\" : 80.00},\n",
        "    \"Product3\" : { \"Name\" : \"Biscuits\", \"Price\" : 50.00},\n",
        "    \"Product4\" : { \"Name\" : \"Coffee\", \"Price\" : 100.00}\n",
        "}\n",
        "\n",
        "#Accessing Data: You can easily access specific information, such as the name of the second Product:\n",
        "\n",
        "print(Company_Amul[\"Product2\"][\"Name\"])  # Output: Chocolate\n"
      ],
      "metadata": {
        "colab": {
          "base_uri": "https://localhost:8080/"
        },
        "id": "AZw77QLSsywE",
        "outputId": "ab67b17a-2e59-40be-ba2f-a26af70130e5"
      },
      "execution_count": 2,
      "outputs": [
        {
          "output_type": "stream",
          "name": "stdout",
          "text": [
            "Chocolate\n"
          ]
        }
      ]
    },
    {
      "cell_type": "markdown",
      "source": [
        "###17. Describe the Time Complexity of accessing elements in a Dictionary.\n",
        "- Accessing elements in a Python dictionary typically has an average time complexity of O(1). This means that retrieving a value using its key is generally very fast and does not depend on the size of the dictionary\n",
        "- While dictionary lookups are usually very efficient with an average time complexity of O(1), they can become slower in rare cases due to collisions, resulting in O(n) complexity.\n",
        "\n",
        "###18. In what situations are lists preferred over dictionaries?\n",
        "- Lists are preferred over dictionaries in the following situations:\n",
        "  - When the order of elements matters.\n",
        "  - When you need to store multiple occurrences of the same value.\n",
        "  - When you need to perform operations that require iterating through elements in a specific sequence.\n",
        "- In Summary, use lists when you need ordered collections with potential duplicates and simple sequential access.\n",
        "\n",
        "###19. Why are Dictionaries considered Unordered, and how does that affect data retrieval?\n",
        "- Dictionaries in Python are considered unordered because, they did not maintain any specific order of the key-value pairs. This means that when you iterate over a dictionary or access its items, you cannot rely on them being in the same order as when they were added.\n",
        "\n",
        "###20. Explain the difference between a list and a dictionary in terms of data retrieval.\n",
        "- In Lists, Elements are accessed using their numeric indices, meaning that accessing elements depends on their position in the list.\n",
        "- In Dictionaries, Elements are accessed using their respective Keys, allowing direct retrieval of data independent of their position.  "
      ],
      "metadata": {
        "id": "8fzOxKVovuhL"
      }
    },
    {
      "cell_type": "markdown",
      "source": [
        "---\n",
        "#Practical Questions"
      ],
      "metadata": {
        "id": "YSoppL5Vyzj9"
      }
    },
    {
      "cell_type": "code",
      "source": [
        "# 1. Write a code to create a string with your name and print it.\n",
        "Name=\"Nithin Sahu\"\n",
        "print(Name)"
      ],
      "metadata": {
        "colab": {
          "base_uri": "https://localhost:8080/"
        },
        "id": "vRKomnT2y8JT",
        "outputId": "016e7bad-656c-48c8-a8a4-2ba2ce42a5ce"
      },
      "execution_count": 4,
      "outputs": [
        {
          "output_type": "stream",
          "name": "stdout",
          "text": [
            "Nithin Sahu\n"
          ]
        }
      ]
    },
    {
      "cell_type": "code",
      "source": [
        "# 2. Write a code to find the length of the string \"Hello World\".\n",
        "string1=\"Hello World\"\n",
        "len(string1)"
      ],
      "metadata": {
        "colab": {
          "base_uri": "https://localhost:8080/"
        },
        "id": "M0-8CKSizXhW",
        "outputId": "1a174afc-872f-4918-f2d3-c5a1bbc19700"
      },
      "execution_count": 5,
      "outputs": [
        {
          "output_type": "execute_result",
          "data": {
            "text/plain": [
              "11"
            ]
          },
          "metadata": {},
          "execution_count": 5
        }
      ]
    },
    {
      "cell_type": "code",
      "source": [
        "# 3. Write a code to slice the first 3 characters from the string \"Python Programming\".\n",
        "string2=\"Python Programming\"\n",
        "string2[0:3]"
      ],
      "metadata": {
        "colab": {
          "base_uri": "https://localhost:8080/",
          "height": 35
        },
        "id": "U-pdushszoyc",
        "outputId": "b741daf9-3fe3-42fe-c8e8-0cf05854c5f5"
      },
      "execution_count": 6,
      "outputs": [
        {
          "output_type": "execute_result",
          "data": {
            "text/plain": [
              "'Pyt'"
            ],
            "application/vnd.google.colaboratory.intrinsic+json": {
              "type": "string"
            }
          },
          "metadata": {},
          "execution_count": 6
        }
      ]
    },
    {
      "cell_type": "code",
      "source": [
        "# 4.  Write a code to convert the string \"hello\" to uppercase.\n",
        "string3=\"hello\"\n",
        "string3.upper()"
      ],
      "metadata": {
        "colab": {
          "base_uri": "https://localhost:8080/",
          "height": 35
        },
        "id": "hQ8m7sYgz2PQ",
        "outputId": "0192db49-8af5-471b-e67b-cf76155e2323"
      },
      "execution_count": 7,
      "outputs": [
        {
          "output_type": "execute_result",
          "data": {
            "text/plain": [
              "'HELLO'"
            ],
            "application/vnd.google.colaboratory.intrinsic+json": {
              "type": "string"
            }
          },
          "metadata": {},
          "execution_count": 7
        }
      ]
    },
    {
      "cell_type": "code",
      "source": [
        "# 5.  Write a code to replace the word \"apple\" with \"orange\" in the string \"I like apple\".\n",
        "string4=\"I like apple\"\n",
        "print(string4)\n",
        "string4.replace(\"apple\",\"orange\")"
      ],
      "metadata": {
        "colab": {
          "base_uri": "https://localhost:8080/",
          "height": 53
        },
        "id": "nHV4Oc4dz_Cd",
        "outputId": "0df1e1e2-719f-4103-e1df-90cafa9839ac"
      },
      "execution_count": 9,
      "outputs": [
        {
          "output_type": "stream",
          "name": "stdout",
          "text": [
            "I like apple\n"
          ]
        },
        {
          "output_type": "execute_result",
          "data": {
            "text/plain": [
              "'I like orange'"
            ],
            "application/vnd.google.colaboratory.intrinsic+json": {
              "type": "string"
            }
          },
          "metadata": {},
          "execution_count": 9
        }
      ]
    },
    {
      "cell_type": "code",
      "source": [
        "# 6. Write a code to create a list with numbers 1 to 5 and print it.\n",
        "list1=[1,2,3,4,5]\n",
        "print(list1)"
      ],
      "metadata": {
        "colab": {
          "base_uri": "https://localhost:8080/"
        },
        "id": "a3RNAUJx0OdG",
        "outputId": "b228e806-c89e-4e3a-c401-42330f2f32a6"
      },
      "execution_count": 10,
      "outputs": [
        {
          "output_type": "stream",
          "name": "stdout",
          "text": [
            "[1, 2, 3, 4, 5]\n"
          ]
        }
      ]
    },
    {
      "cell_type": "code",
      "source": [
        "# 7. Write a code to append the number 10 to the list [1, 2, 3, 4].\n",
        "list2=[1,2,3,4]\n",
        "list2.append(10)\n",
        "print(list2)"
      ],
      "metadata": {
        "colab": {
          "base_uri": "https://localhost:8080/"
        },
        "id": "Zpnxesbj0eku",
        "outputId": "94cdb225-f360-46e3-d11a-d0e30009cbf7"
      },
      "execution_count": 11,
      "outputs": [
        {
          "output_type": "stream",
          "name": "stdout",
          "text": [
            "[1, 2, 3, 4, 10]\n"
          ]
        }
      ]
    },
    {
      "cell_type": "code",
      "source": [
        "# 8. Write a code to remove the number 3 from the list [1, 2, 3, 4, 5].\n",
        "list3=[1,2,3,4,5]\n",
        "list3.remove(3)\n",
        "print(list3)"
      ],
      "metadata": {
        "colab": {
          "base_uri": "https://localhost:8080/"
        },
        "id": "a4WNVVDs0tN3",
        "outputId": "0e4c9c47-4240-4ed8-b8e5-12c499f5d9b3"
      },
      "execution_count": 12,
      "outputs": [
        {
          "output_type": "stream",
          "name": "stdout",
          "text": [
            "[1, 2, 4, 5]\n"
          ]
        }
      ]
    },
    {
      "cell_type": "code",
      "source": [
        "# 9.  Write a code to access the second element in the list ['a', 'b', 'c', 'd']\n",
        "list4=['a','b','c','d']\n",
        "list4[1]"
      ],
      "metadata": {
        "colab": {
          "base_uri": "https://localhost:8080/",
          "height": 35
        },
        "id": "qA_nqVoG1C_G",
        "outputId": "1eb5254f-6778-468b-907a-783a41202432"
      },
      "execution_count": 14,
      "outputs": [
        {
          "output_type": "execute_result",
          "data": {
            "text/plain": [
              "'b'"
            ],
            "application/vnd.google.colaboratory.intrinsic+json": {
              "type": "string"
            }
          },
          "metadata": {},
          "execution_count": 14
        }
      ]
    },
    {
      "cell_type": "code",
      "source": [
        "# 10. Write a code to reverse the list [10, 20, 30, 40, 50].\n",
        "list5=[10,20,30,40,50]\n",
        "list5.reverse()\n",
        "print(list5)"
      ],
      "metadata": {
        "colab": {
          "base_uri": "https://localhost:8080/"
        },
        "id": "wQ17mYSQ1w9u",
        "outputId": "a6dd3640-b42d-4639-dfed-2faff138f84f"
      },
      "execution_count": 15,
      "outputs": [
        {
          "output_type": "stream",
          "name": "stdout",
          "text": [
            "[50, 40, 30, 20, 10]\n"
          ]
        }
      ]
    },
    {
      "cell_type": "code",
      "source": [
        "# 11. Write a code to create a tuple with the elements 100, 200, 300 and print it.\n",
        "tuple1=(100,200,300)\n",
        "print(tuple1)"
      ],
      "metadata": {
        "colab": {
          "base_uri": "https://localhost:8080/"
        },
        "id": "Qje8r_tl15_M",
        "outputId": "40968d5d-d549-4a22-88f8-b9924bfa0d45"
      },
      "execution_count": 16,
      "outputs": [
        {
          "output_type": "stream",
          "name": "stdout",
          "text": [
            "(100, 200, 300)\n"
          ]
        }
      ]
    },
    {
      "cell_type": "code",
      "source": [
        "# 12. Write a code to access the second-to-last element of the tuple ('red', 'green', 'blue', 'yellow').\n",
        "tuple2=('red','green','blue','yellow')\n",
        "tuple2[-2]"
      ],
      "metadata": {
        "colab": {
          "base_uri": "https://localhost:8080/",
          "height": 35
        },
        "id": "iiZEVB7z2U-9",
        "outputId": "7cde5a0a-d013-400e-f42c-5b8a54b59768"
      },
      "execution_count": 17,
      "outputs": [
        {
          "output_type": "execute_result",
          "data": {
            "text/plain": [
              "'blue'"
            ],
            "application/vnd.google.colaboratory.intrinsic+json": {
              "type": "string"
            }
          },
          "metadata": {},
          "execution_count": 17
        }
      ]
    },
    {
      "cell_type": "code",
      "source": [
        "# 13. Write a code to find the minimum number in the tuple (10, 20, 5, 15).\n",
        "tuple3=(10,20,5,15)\n",
        "min(tuple3)"
      ],
      "metadata": {
        "colab": {
          "base_uri": "https://localhost:8080/"
        },
        "id": "1eSxFzCE2o2-",
        "outputId": "4722fd99-4f9b-4f85-c093-35853b5cbfbf"
      },
      "execution_count": 18,
      "outputs": [
        {
          "output_type": "execute_result",
          "data": {
            "text/plain": [
              "5"
            ]
          },
          "metadata": {},
          "execution_count": 18
        }
      ]
    },
    {
      "cell_type": "code",
      "source": [
        "# 14. Write a code to find the index of the element \"cat\" in the tuple ('dog', 'cat', 'rabbit').\n",
        "tuple4=('dog','cat','rabbit')\n",
        "tuple4.index('cat')"
      ],
      "metadata": {
        "colab": {
          "base_uri": "https://localhost:8080/"
        },
        "id": "ps0gs6vN2x7W",
        "outputId": "ad0402e7-0ed0-4360-bc9f-79ca7aff095d"
      },
      "execution_count": 19,
      "outputs": [
        {
          "output_type": "execute_result",
          "data": {
            "text/plain": [
              "1"
            ]
          },
          "metadata": {},
          "execution_count": 19
        }
      ]
    },
    {
      "cell_type": "code",
      "source": [
        "# 15. Write a code to create a tuple containing three different fruits and check if \"kiwi\" is in it.\n",
        "tuple4=('apple','banana','kiwi')\n",
        "'kiwi' in tuple4"
      ],
      "metadata": {
        "colab": {
          "base_uri": "https://localhost:8080/"
        },
        "id": "VOX6PBZn29wu",
        "outputId": "ca0d8db5-2c3a-46d1-986c-4b0f5e17c7c0"
      },
      "execution_count": 20,
      "outputs": [
        {
          "output_type": "execute_result",
          "data": {
            "text/plain": [
              "True"
            ]
          },
          "metadata": {},
          "execution_count": 20
        }
      ]
    },
    {
      "cell_type": "code",
      "source": [
        "# 16. Write a code to create a set with the elements 'a', 'b', 'c' and print it.\n",
        "set1={'a','b','c'}\n",
        "print(set1)"
      ],
      "metadata": {
        "colab": {
          "base_uri": "https://localhost:8080/"
        },
        "id": "xmh6N2KL3PRH",
        "outputId": "55c21505-f1f2-48ce-c3e5-db02d07f227b"
      },
      "execution_count": 27,
      "outputs": [
        {
          "output_type": "stream",
          "name": "stdout",
          "text": [
            "{'a', 'c', 'b'}\n"
          ]
        }
      ]
    },
    {
      "cell_type": "code",
      "source": [
        "# 17. Write a code to clear all elements from the set {1, 2, 3, 4, 5}.\n",
        "set2={1,2,3,4,5}\n",
        "set2.clear()\n",
        "print(set2)"
      ],
      "metadata": {
        "colab": {
          "base_uri": "https://localhost:8080/"
        },
        "id": "hpP9CX0a3cbN",
        "outputId": "8245cdc9-a71e-4e6e-9425-072f5bb222c4"
      },
      "execution_count": 28,
      "outputs": [
        {
          "output_type": "stream",
          "name": "stdout",
          "text": [
            "set()\n"
          ]
        }
      ]
    },
    {
      "cell_type": "code",
      "source": [
        "# 18. Write a code to remove the element 4 from the set {1, 2, 3, 4}.\n",
        "set3={1,2,3,4}\n",
        "set3.remove(4)\n",
        "print(set3)"
      ],
      "metadata": {
        "colab": {
          "base_uri": "https://localhost:8080/"
        },
        "id": "6BuVAjDH3paW",
        "outputId": "6b9af8ca-1c9d-4e97-b5a1-ae0be153e47a"
      },
      "execution_count": 29,
      "outputs": [
        {
          "output_type": "stream",
          "name": "stdout",
          "text": [
            "{1, 2, 3}\n"
          ]
        }
      ]
    },
    {
      "cell_type": "code",
      "source": [
        "# 19. Write a code to find the union of two sets {1, 2, 3} and {3, 4, 5}.\n",
        "set4={1,2,3}\n",
        "set5={3,4,5}\n",
        "set4.union(set5)"
      ],
      "metadata": {
        "colab": {
          "base_uri": "https://localhost:8080/"
        },
        "id": "en_MK8XA30DG",
        "outputId": "fecc081d-6b37-4b09-cbac-ddc6474e45f6"
      },
      "execution_count": 30,
      "outputs": [
        {
          "output_type": "execute_result",
          "data": {
            "text/plain": [
              "{1, 2, 3, 4, 5}"
            ]
          },
          "metadata": {},
          "execution_count": 30
        }
      ]
    },
    {
      "cell_type": "code",
      "source": [
        "# 20. Write a code to find the intersection of two sets {1, 2, 3} and {2, 3, 4}.\n",
        "set6={1,2,3}\n",
        "set7={2,3,4}\n",
        "set6.intersection(set7)"
      ],
      "metadata": {
        "colab": {
          "base_uri": "https://localhost:8080/"
        },
        "id": "ews-__Vm39OX",
        "outputId": "2a39e400-6a29-4972-9037-d801013e7ef2"
      },
      "execution_count": 31,
      "outputs": [
        {
          "output_type": "execute_result",
          "data": {
            "text/plain": [
              "{2, 3}"
            ]
          },
          "metadata": {},
          "execution_count": 31
        }
      ]
    },
    {
      "cell_type": "code",
      "source": [
        "# 21. Write a code to create a dictionary with the keys \"name\", \"age\", and \"city\", and print it.\n",
        "dict1={\"name\":\"Nithin\",\"age\":18,\"city\":\"Bangalore\"}\n",
        "print(dict1)"
      ],
      "metadata": {
        "colab": {
          "base_uri": "https://localhost:8080/"
        },
        "id": "qmKAQp9X4Gm3",
        "outputId": "90e34519-23bd-4be7-a059-3dcb62b9a12b"
      },
      "execution_count": 32,
      "outputs": [
        {
          "output_type": "stream",
          "name": "stdout",
          "text": [
            "{'name': 'Nithin', 'age': 18, 'city': 'Bangalore'}\n"
          ]
        }
      ]
    },
    {
      "cell_type": "code",
      "source": [
        "# 22. Write a code to add a new key-value pair \"country\": \"USA\" to the dictionary {'name': 'John', 'age': 25}.\n",
        "dict2={'name': 'John', 'age': 25}\n",
        "dict2['country']='USA'\n",
        "print(dict2)"
      ],
      "metadata": {
        "colab": {
          "base_uri": "https://localhost:8080/"
        },
        "id": "1ooE66U34XS0",
        "outputId": "9e67c69e-6f9b-4513-b00f-8f9e0871f91c"
      },
      "execution_count": 35,
      "outputs": [
        {
          "output_type": "stream",
          "name": "stdout",
          "text": [
            "{'name': 'John', 'age': 25, 'country': 'USA'}\n"
          ]
        }
      ]
    },
    {
      "cell_type": "code",
      "source": [
        "# 23. Write a code to access the value associated with the key \"name\" in the dictionary {'name': 'Alice', 'age': 30}.\n",
        "dict3={'name': 'Alice', 'age': 30}\n",
        "dict3['name']"
      ],
      "metadata": {
        "colab": {
          "base_uri": "https://localhost:8080/",
          "height": 35
        },
        "id": "as2nea9z4lFQ",
        "outputId": "46267824-a1e8-46a7-9738-6982a741ce2d"
      },
      "execution_count": 49,
      "outputs": [
        {
          "output_type": "execute_result",
          "data": {
            "text/plain": [
              "'Alice'"
            ],
            "application/vnd.google.colaboratory.intrinsic+json": {
              "type": "string"
            }
          },
          "metadata": {},
          "execution_count": 49
        }
      ]
    },
    {
      "cell_type": "code",
      "source": [
        "# 24. Write a code to remove the key \"age\" from the dictionary {'name': 'Bob', 'age': 22, 'city': 'New York'}.\n",
        "dict4={'name': 'Bob', 'age': 22, 'city': 'New York'}\n",
        "dict4.pop('age')\n",
        "print(dict4)"
      ],
      "metadata": {
        "colab": {
          "base_uri": "https://localhost:8080/"
        },
        "id": "RW6DESDT7Jz9",
        "outputId": "be31da6a-a218-424e-b694-0cdd1a8699be"
      },
      "execution_count": 51,
      "outputs": [
        {
          "output_type": "stream",
          "name": "stdout",
          "text": [
            "{'name': 'Bob', 'city': 'New York'}\n"
          ]
        }
      ]
    },
    {
      "cell_type": "code",
      "source": [
        "# 25. Write a code to check if the key \"city\" exists in the dictionary {'name': 'Alice', 'city': 'Paris'}.\n",
        "dict5={'name': 'Alice', 'city': 'Paris'}\n",
        "'city' in dict5"
      ],
      "metadata": {
        "colab": {
          "base_uri": "https://localhost:8080/"
        },
        "id": "4rH3uT587V6Q",
        "outputId": "9fc89fc1-86fe-457c-a159-032cfe85e4d7"
      },
      "execution_count": 52,
      "outputs": [
        {
          "output_type": "execute_result",
          "data": {
            "text/plain": [
              "True"
            ]
          },
          "metadata": {},
          "execution_count": 52
        }
      ]
    },
    {
      "cell_type": "code",
      "source": [
        "# 26. Write a code to create a list, a tuple, and a dictionary, and print them all.\n",
        "list1=['Nithin','Sahu']\n",
        "tuple1=('Nithin','Sahu')\n",
        "dict1={'Name':'Nithin','Surname':'Sahu'}\n",
        "print(list1)\n",
        "print(tuple1)\n",
        "print(dict1)"
      ],
      "metadata": {
        "colab": {
          "base_uri": "https://localhost:8080/"
        },
        "id": "Bkt67_L37c8h",
        "outputId": "c0f3648e-e7fa-4463-88c1-25ac078ea811"
      },
      "execution_count": 53,
      "outputs": [
        {
          "output_type": "stream",
          "name": "stdout",
          "text": [
            "['Nithin', 'Sahu']\n",
            "('Nithin', 'Sahu')\n",
            "{'Name': 'Nithin', 'Surname': 'Sahu'}\n"
          ]
        }
      ]
    },
    {
      "cell_type": "code",
      "source": [
        "# 27. Write a code to create a list of 5 random numbers between 1 and 100, sort it in ascending order, and print the result.(replaced).\n",
        "import random as r\n",
        "list1=[r.randint(1,100) for i in range(5)]\n",
        "list1.sort()\n",
        "print(list1)"
      ],
      "metadata": {
        "colab": {
          "base_uri": "https://localhost:8080/"
        },
        "id": "41glYcHA7szw",
        "outputId": "759c60c5-66b4-40fd-e716-65faa0fe33c4"
      },
      "execution_count": 81,
      "outputs": [
        {
          "output_type": "stream",
          "name": "stdout",
          "text": [
            "[19, 29, 36, 89, 92]\n"
          ]
        }
      ]
    },
    {
      "cell_type": "code",
      "source": [
        "# 28. Write a code to create a list with strings and print the element at the third index.\n",
        "list1=['Nithin', 'Sahu', 'Bangalore', 'BCA', 'AIMS']\n",
        "list1[2]"
      ],
      "metadata": {
        "colab": {
          "base_uri": "https://localhost:8080/",
          "height": 35
        },
        "id": "36zRVjx_-Afw",
        "outputId": "23163c92-2c96-4d73-e935-ed7f17ce7b1c"
      },
      "execution_count": 83,
      "outputs": [
        {
          "output_type": "execute_result",
          "data": {
            "text/plain": [
              "'Bangalore'"
            ],
            "application/vnd.google.colaboratory.intrinsic+json": {
              "type": "string"
            }
          },
          "metadata": {},
          "execution_count": 83
        }
      ]
    },
    {
      "cell_type": "code",
      "source": [
        "# 29. Write a code to combine two dictionaries into one and print the result.\n",
        "dict1={'Name':'Nithin','Surname':'Sahu'}\n",
        "dict2={'Course':'BCA','Semester':2}\n",
        "dict1.update(dict2)\n",
        "print(dict1)"
      ],
      "metadata": {
        "colab": {
          "base_uri": "https://localhost:8080/"
        },
        "id": "ZVRzE40A-MHZ",
        "outputId": "68ff4c97-83be-4b81-ae20-ab29e7083b41"
      },
      "execution_count": 85,
      "outputs": [
        {
          "output_type": "stream",
          "name": "stdout",
          "text": [
            "{'Name': 'Nithin', 'Surname': 'Sahu', 'Course': 'BCA', 'Semester': 2}\n"
          ]
        }
      ]
    },
    {
      "cell_type": "code",
      "source": [
        "# 30. Write a code to convert a list of strings into a set.\n",
        "list1=['Nithin','Bangalore','BCA','AIMS']\n",
        "set1=set(list1)\n",
        "print(set1)"
      ],
      "metadata": {
        "colab": {
          "base_uri": "https://localhost:8080/"
        },
        "id": "Jy-AQDg5-hxZ",
        "outputId": "16d3d019-1305-473e-cbc2-023a12fa6c9d"
      },
      "execution_count": 93,
      "outputs": [
        {
          "output_type": "stream",
          "name": "stdout",
          "text": [
            "{'AIMS', 'Bangalore', 'Nithin', 'BCA'}\n"
          ]
        }
      ]
    }
  ]
}